{
 "cells": [
  {
   "cell_type": "code",
   "execution_count": 1,
   "id": "3694db43-7ed9-4fb9-9c5e-a7630881177c",
   "metadata": {},
   "outputs": [
    {
     "name": "stdout",
     "output_type": "stream",
     "text": [
      "  InvoiceNo StockCode                          Description  Quantity  \\\n",
      "0    536365    85123A   WHITE HANGING HEART T-LIGHT HOLDER         6   \n",
      "1    536365     71053                  WHITE METAL LANTERN         6   \n",
      "2    536365    84406B       CREAM CUPID HEARTS COAT HANGER         8   \n",
      "3    536365    84029G  KNITTED UNION FLAG HOT WATER BOTTLE         6   \n",
      "4    536365    84029E       RED WOOLLY HOTTIE WHITE HEART.         6   \n",
      "\n",
      "           InvoiceDate  UnitPrice  CustomerID         Country  \n",
      "0  2010-12-01 08:26:00       2.55     17850.0  United Kingdom  \n",
      "1  2010-12-01 08:26:00       3.39     17850.0  United Kingdom  \n",
      "2  2010-12-01 08:26:00       2.75     17850.0  United Kingdom  \n",
      "3  2010-12-01 08:26:00       3.39     17850.0  United Kingdom  \n",
      "4  2010-12-01 08:26:00       3.39     17850.0  United Kingdom  \n"
     ]
    }
   ],
   "source": [
    "import sys\n",
    "sys.path.append('/home/jovyan/data/data_CSV')\n",
    "from extraction import extract_data\n",
    "from transformation import transform_data\n",
    "from loading import load_data\n",
    "from schema import create_schema\n",
    "\n",
    "file_path = '/home/jovyan/data/data_CSV/online_retail.csv'\n",
    "db_url = 'postgresql://myuser:01144873329@db:5432/mydatabase' \n",
    "\n",
    "data = extract_data(file_path)\n",
    "\n",
    "print(data.head())\n",
    "\n",
    "\n"
   ]
  },
  {
   "cell_type": "code",
   "execution_count": 2,
   "id": "11823874-df31-4f63-8d61-2a5856d09a5f",
   "metadata": {},
   "outputs": [
    {
     "name": "stdout",
     "output_type": "stream",
     "text": [
      "Number of not NULL before:\n",
      "\n",
      "<class 'pandas.core.frame.DataFrame'>\n",
      "RangeIndex: 541909 entries, 0 to 541908\n",
      "Data columns (total 8 columns):\n",
      " #   Column       Non-Null Count   Dtype  \n",
      "---  ------       --------------   -----  \n",
      " 0   InvoiceNo    541909 non-null  object \n",
      " 1   StockCode    541909 non-null  object \n",
      " 2   Description  540455 non-null  object \n",
      " 3   Quantity     541909 non-null  int64  \n",
      " 4   InvoiceDate  541909 non-null  object \n",
      " 5   UnitPrice    541909 non-null  float64\n",
      " 6   CustomerID   406829 non-null  float64\n",
      " 7   Country      541909 non-null  object \n",
      "dtypes: float64(2), int64(1), object(5)\n",
      "memory usage: 33.1+ MB\n",
      "None\n"
     ]
    }
   ],
   "source": [
    "print(\"Number of not NULL before:\\n\")\n",
    "print(data.info())\n",
    "\n",
    "\n"
   ]
  },
  {
   "cell_type": "code",
   "execution_count": 3,
   "id": "98b9d087-2833-4469-b8b6-34002329e355",
   "metadata": {},
   "outputs": [
    {
     "data": {
      "text/plain": [
       "Index(['InvoiceNo', 'StockCode', 'Description', 'Quantity', 'InvoiceDate',\n",
       "       'UnitPrice', 'CustomerID', 'Country'],\n",
       "      dtype='object')"
      ]
     },
     "execution_count": 3,
     "metadata": {},
     "output_type": "execute_result"
    }
   ],
   "source": [
    "\n",
    "data.columns\n",
    "\n"
   ]
  },
  {
   "cell_type": "code",
   "execution_count": 4,
   "id": "de44d06e-4804-42ec-a96e-4c573048f75f",
   "metadata": {},
   "outputs": [
    {
     "data": {
      "text/html": [
       "<div>\n",
       "<style scoped>\n",
       "    .dataframe tbody tr th:only-of-type {\n",
       "        vertical-align: middle;\n",
       "    }\n",
       "\n",
       "    .dataframe tbody tr th {\n",
       "        vertical-align: top;\n",
       "    }\n",
       "\n",
       "    .dataframe thead th {\n",
       "        text-align: right;\n",
       "    }\n",
       "</style>\n",
       "<table border=\"1\" class=\"dataframe\">\n",
       "  <thead>\n",
       "    <tr style=\"text-align: right;\">\n",
       "      <th></th>\n",
       "      <th>Quantity</th>\n",
       "      <th>UnitPrice</th>\n",
       "      <th>CustomerID</th>\n",
       "    </tr>\n",
       "  </thead>\n",
       "  <tbody>\n",
       "    <tr>\n",
       "      <th>count</th>\n",
       "      <td>541909.000000</td>\n",
       "      <td>541909.000000</td>\n",
       "      <td>406829.000000</td>\n",
       "    </tr>\n",
       "    <tr>\n",
       "      <th>mean</th>\n",
       "      <td>9.552250</td>\n",
       "      <td>4.611114</td>\n",
       "      <td>15287.690570</td>\n",
       "    </tr>\n",
       "    <tr>\n",
       "      <th>std</th>\n",
       "      <td>218.081158</td>\n",
       "      <td>96.759853</td>\n",
       "      <td>1713.600303</td>\n",
       "    </tr>\n",
       "    <tr>\n",
       "      <th>min</th>\n",
       "      <td>-80995.000000</td>\n",
       "      <td>-11062.060000</td>\n",
       "      <td>12346.000000</td>\n",
       "    </tr>\n",
       "    <tr>\n",
       "      <th>25%</th>\n",
       "      <td>1.000000</td>\n",
       "      <td>1.250000</td>\n",
       "      <td>13953.000000</td>\n",
       "    </tr>\n",
       "    <tr>\n",
       "      <th>50%</th>\n",
       "      <td>3.000000</td>\n",
       "      <td>2.080000</td>\n",
       "      <td>15152.000000</td>\n",
       "    </tr>\n",
       "    <tr>\n",
       "      <th>75%</th>\n",
       "      <td>10.000000</td>\n",
       "      <td>4.130000</td>\n",
       "      <td>16791.000000</td>\n",
       "    </tr>\n",
       "    <tr>\n",
       "      <th>max</th>\n",
       "      <td>80995.000000</td>\n",
       "      <td>38970.000000</td>\n",
       "      <td>18287.000000</td>\n",
       "    </tr>\n",
       "  </tbody>\n",
       "</table>\n",
       "</div>"
      ],
      "text/plain": [
       "            Quantity      UnitPrice     CustomerID\n",
       "count  541909.000000  541909.000000  406829.000000\n",
       "mean        9.552250       4.611114   15287.690570\n",
       "std       218.081158      96.759853    1713.600303\n",
       "min    -80995.000000  -11062.060000   12346.000000\n",
       "25%         1.000000       1.250000   13953.000000\n",
       "50%         3.000000       2.080000   15152.000000\n",
       "75%        10.000000       4.130000   16791.000000\n",
       "max     80995.000000   38970.000000   18287.000000"
      ]
     },
     "execution_count": 4,
     "metadata": {},
     "output_type": "execute_result"
    }
   ],
   "source": [
    "data.describe()"
   ]
  },
  {
   "cell_type": "code",
   "execution_count": 5,
   "id": "536caf29-9ad6-4fbe-a562-74a07a1307d5",
   "metadata": {},
   "outputs": [
    {
     "name": "stdout",
     "output_type": "stream",
     "text": [
      "Number of duplicated before: 5268\n"
     ]
    }
   ],
   "source": [
    "print(\"Number of duplicated before:\", data.duplicated().sum())"
   ]
  },
  {
   "cell_type": "code",
   "execution_count": 6,
   "id": "396716f0-d9c2-42f3-a6ce-36edc63f3b44",
   "metadata": {},
   "outputs": [],
   "source": [
    "transformed_data,datetime_dim_data, customer_dim_data, product_dim_data, fact_table_data = transform_data(data)"
   ]
  },
  {
   "cell_type": "code",
   "execution_count": 7,
   "id": "c522f66f-9544-4d1b-8893-45d83c7f4eef",
   "metadata": {},
   "outputs": [
    {
     "data": {
      "text/html": [
       "<div>\n",
       "<style scoped>\n",
       "    .dataframe tbody tr th:only-of-type {\n",
       "        vertical-align: middle;\n",
       "    }\n",
       "\n",
       "    .dataframe tbody tr th {\n",
       "        vertical-align: top;\n",
       "    }\n",
       "\n",
       "    .dataframe thead th {\n",
       "        text-align: right;\n",
       "    }\n",
       "</style>\n",
       "<table border=\"1\" class=\"dataframe\">\n",
       "  <thead>\n",
       "    <tr style=\"text-align: right;\">\n",
       "      <th></th>\n",
       "      <th>Quantity</th>\n",
       "      <th>CustomerID</th>\n",
       "    </tr>\n",
       "  </thead>\n",
       "  <tbody>\n",
       "    <tr>\n",
       "      <th>count</th>\n",
       "      <td>401564.000000</td>\n",
       "      <td>401564.000000</td>\n",
       "    </tr>\n",
       "    <tr>\n",
       "      <th>mean</th>\n",
       "      <td>13.509769</td>\n",
       "      <td>15281.266797</td>\n",
       "    </tr>\n",
       "    <tr>\n",
       "      <th>std</th>\n",
       "      <td>249.442715</td>\n",
       "      <td>1713.978947</td>\n",
       "    </tr>\n",
       "    <tr>\n",
       "      <th>min</th>\n",
       "      <td>1.000000</td>\n",
       "      <td>12346.000000</td>\n",
       "    </tr>\n",
       "    <tr>\n",
       "      <th>25%</th>\n",
       "      <td>2.000000</td>\n",
       "      <td>13939.000000</td>\n",
       "    </tr>\n",
       "    <tr>\n",
       "      <th>50%</th>\n",
       "      <td>6.000000</td>\n",
       "      <td>15145.000000</td>\n",
       "    </tr>\n",
       "    <tr>\n",
       "      <th>75%</th>\n",
       "      <td>12.000000</td>\n",
       "      <td>16788.000000</td>\n",
       "    </tr>\n",
       "    <tr>\n",
       "      <th>max</th>\n",
       "      <td>80995.000000</td>\n",
       "      <td>18287.000000</td>\n",
       "    </tr>\n",
       "  </tbody>\n",
       "</table>\n",
       "</div>"
      ],
      "text/plain": [
       "            Quantity     CustomerID\n",
       "count  401564.000000  401564.000000\n",
       "mean       13.509769   15281.266797\n",
       "std       249.442715    1713.978947\n",
       "min         1.000000   12346.000000\n",
       "25%         2.000000   13939.000000\n",
       "50%         6.000000   15145.000000\n",
       "75%        12.000000   16788.000000\n",
       "max     80995.000000   18287.000000"
      ]
     },
     "execution_count": 7,
     "metadata": {},
     "output_type": "execute_result"
    }
   ],
   "source": [
    "transformed_data.describe()"
   ]
  },
  {
   "cell_type": "code",
   "execution_count": 8,
   "id": "61e0d753-0f57-4dac-a8f6-f761c9bcbd9e",
   "metadata": {},
   "outputs": [
    {
     "name": "stdout",
     "output_type": "stream",
     "text": [
      "Number of not NULL After:\n",
      "\n",
      "<class 'pandas.core.frame.DataFrame'>\n",
      "Index: 401564 entries, 0 to 541908\n",
      "Data columns (total 9 columns):\n",
      " #   Column            Non-Null Count   Dtype \n",
      "---  ------            --------------   ----- \n",
      " 0   InvoiceNo         401564 non-null  object\n",
      " 1   StockCode         401564 non-null  object\n",
      " 2   Description       401564 non-null  object\n",
      " 3   Quantity          401564 non-null  int64 \n",
      " 4   UnitPrice         401564 non-null  object\n",
      " 5   CustomerID        401564 non-null  int64 \n",
      " 6   Country           401564 non-null  object\n",
      " 7   InvoiceDate_Date  401564 non-null  object\n",
      " 8   InvoiceDate_Time  401564 non-null  object\n",
      "dtypes: int64(2), object(7)\n",
      "memory usage: 30.6+ MB\n",
      "None\n"
     ]
    }
   ],
   "source": [
    "print(\"Number of not NULL After:\\n\")\n",
    "print(transformed_data.info())\n"
   ]
  },
  {
   "cell_type": "code",
   "execution_count": 9,
   "id": "fbafcd8c-96e7-4c7e-a30b-2b6b09d58774",
   "metadata": {},
   "outputs": [
    {
     "name": "stdout",
     "output_type": "stream",
     "text": [
      "Number of duplicated after: 0\n"
     ]
    }
   ],
   "source": [
    "print(\"Number of duplicated after:\", transformed_data.duplicated().sum())"
   ]
  },
  {
   "cell_type": "code",
   "execution_count": 10,
   "id": "082cf943-84db-4673-b46e-9e6f7cfa15b6",
   "metadata": {},
   "outputs": [
    {
     "name": "stdout",
     "output_type": "stream",
     "text": [
      "Schema created successfully.\n"
     ]
    }
   ],
   "source": [
    "create_schema(db_url)"
   ]
  },
  {
   "cell_type": "code",
   "execution_count": 11,
   "id": "b3d12419-93bc-45a8-988b-de92b57543d5",
   "metadata": {},
   "outputs": [
    {
     "name": "stdout",
     "output_type": "stream",
     "text": [
      "Data successfully loaded into PostgreSQL.\n"
     ]
    }
   ],
   "source": [
    "\n",
    "\n",
    "load_data(db_url, datetime_dim_data, customer_dim_data, product_dim_data, fact_table_data)"
   ]
  },
  {
   "cell_type": "code",
   "execution_count": 12,
   "id": "e51df1e3-2707-4f21-9e9e-29a748032c50",
   "metadata": {},
   "outputs": [
    {
     "name": "stdout",
     "output_type": "stream",
     "text": [
      "(1, datetime.date(2010, 12, 1), datetime.time(8, 26))\n",
      "(2, datetime.date(2010, 12, 1), datetime.time(8, 28))\n",
      "(3, datetime.date(2010, 12, 1), datetime.time(8, 34))\n",
      "(4, datetime.date(2010, 12, 1), datetime.time(8, 35))\n",
      "(5, datetime.date(2010, 12, 1), datetime.time(8, 45))\n",
      "(6, datetime.date(2010, 12, 1), datetime.time(9, 0))\n",
      "(7, datetime.date(2010, 12, 1), datetime.time(9, 1))\n",
      "(8, datetime.date(2010, 12, 1), datetime.time(9, 2))\n",
      "(9, datetime.date(2010, 12, 1), datetime.time(9, 9))\n",
      "(10, datetime.date(2010, 12, 1), datetime.time(9, 32))\n",
      "(11, datetime.date(2010, 12, 1), datetime.time(9, 34))\n",
      "(12, datetime.date(2010, 12, 1), datetime.time(9, 37))\n",
      "(13, datetime.date(2010, 12, 1), datetime.time(9, 41))\n",
      "(14, datetime.date(2010, 12, 1), datetime.time(9, 45))\n",
      "(15, datetime.date(2010, 12, 1), datetime.time(9, 49))\n",
      "(16, datetime.date(2010, 12, 1), datetime.time(9, 53))\n",
      "(17, datetime.date(2010, 12, 1), datetime.time(9, 56))\n",
      "(18, datetime.date(2010, 12, 1), datetime.time(9, 57))\n",
      "(19, datetime.date(2010, 12, 1), datetime.time(9, 58))\n",
      "(20, datetime.date(2010, 12, 1), datetime.time(9, 59))\n"
     ]
    }
   ],
   "source": [
    "import psycopg2\n",
    "conn = psycopg2.connect(db_url)\n",
    "cur = conn.cursor()\n",
    "cur.execute(\"SELECT * FROM datetime_dim LIMIT 20;\")\n",
    "rows = cur.fetchall()\n",
    "for row in rows:\n",
    "    print(row)"
   ]
  },
  {
   "cell_type": "code",
   "execution_count": 13,
   "id": "3df8071e-bfe4-4a77-8b2c-3bc0d824044f",
   "metadata": {},
   "outputs": [
    {
     "name": "stdout",
     "output_type": "stream",
     "text": [
      "(1, '536365', '85123A', 6, Decimal('2.55'), 1, 17850)\n",
      "(2, '536365', '71053', 6, Decimal('3.39'), 1, 17850)\n",
      "(3, '536365', '84406B', 8, Decimal('2.75'), 1, 17850)\n",
      "(4, '536365', '84029G', 6, Decimal('3.39'), 1, 17850)\n",
      "(5, '536365', '84029E', 6, Decimal('3.39'), 1, 17850)\n",
      "(6, '536365', '22752', 2, Decimal('7.65'), 1, 17850)\n",
      "(7, '536365', '21730', 6, Decimal('4.25'), 1, 17850)\n",
      "(8, '536366', '22633', 6, Decimal('1.85'), 2, 17850)\n",
      "(9, '536366', '22632', 6, Decimal('1.85'), 2, 17850)\n",
      "(10, '536367', '84879', 32, Decimal('1.69'), 3, 13047)\n",
      "(11, '536367', '22745', 6, Decimal('2.1'), 3, 13047)\n",
      "(12, '536367', '22748', 6, Decimal('2.1'), 3, 13047)\n",
      "(13, '536367', '22749', 8, Decimal('3.75'), 3, 13047)\n",
      "(14, '536367', '22310', 6, Decimal('1.65'), 3, 13047)\n",
      "(15, '536367', '84969', 6, Decimal('4.25'), 3, 13047)\n",
      "(16, '536367', '22623', 3, Decimal('4.95'), 3, 13047)\n",
      "(17, '536367', '22622', 2, Decimal('9.95'), 3, 13047)\n",
      "(18, '536367', '21754', 3, Decimal('5.95'), 3, 13047)\n",
      "(19, '536367', '21755', 3, Decimal('5.95'), 3, 13047)\n",
      "(20, '536367', '21777', 4, Decimal('7.95'), 3, 13047)\n"
     ]
    }
   ],
   "source": [
    "import psycopg2\n",
    "conn = psycopg2.connect(db_url)\n",
    "cur = conn.cursor()\n",
    "cur.execute(\"SELECT * FROM fact_table LIMIT 20;\")\n",
    "rows = cur.fetchall()\n",
    "for row in rows:\n",
    "    print(row)"
   ]
  },
  {
   "cell_type": "code",
   "execution_count": null,
   "id": "76336644-d814-44bc-9613-8236a6921257",
   "metadata": {},
   "outputs": [],
   "source": []
  }
 ],
 "metadata": {
  "kernelspec": {
   "display_name": "Python 3 (ipykernel)",
   "language": "python",
   "name": "python3"
  },
  "language_info": {
   "codemirror_mode": {
    "name": "ipython",
    "version": 3
   },
   "file_extension": ".py",
   "mimetype": "text/x-python",
   "name": "python",
   "nbconvert_exporter": "python",
   "pygments_lexer": "ipython3",
   "version": "3.11.6"
  }
 },
 "nbformat": 4,
 "nbformat_minor": 5
}
